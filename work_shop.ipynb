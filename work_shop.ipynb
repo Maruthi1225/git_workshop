{
  "nbformat": 4,
  "nbformat_minor": 0,
  "metadata": {
    "colab": {
      "provenance": [],
      "authorship_tag": "ABX9TyPj43VNixeGW+Qfn3e7iMzV",
      "include_colab_link": true
    },
    "kernelspec": {
      "name": "python3",
      "display_name": "Python 3"
    },
    "language_info": {
      "name": "python"
    }
  },
  "cells": [
    {
      "cell_type": "markdown",
      "metadata": {
        "id": "view-in-github",
        "colab_type": "text"
      },
      "source": [
        "<a href=\"https://colab.research.google.com/github/Maruthi1225/git_workshop/blob/main/work_shop.ipynb\" target=\"_parent\"><img src=\"https://colab.research.google.com/assets/colab-badge.svg\" alt=\"Open In Colab\"/></a>"
      ]
    },
    {
      "cell_type": "markdown",
      "source": [
        "NUMPy"
      ],
      "metadata": {
        "id": "7rAxJzZ8PMB2"
      }
    },
    {
      "cell_type": "code",
      "execution_count": null,
      "metadata": {
        "colab": {
          "base_uri": "https://localhost:8080/"
        },
        "id": "Ya6Trl-qDQJA",
        "outputId": "868744df-62b0-4f0c-9fa4-faeb8bcef254"
      },
      "outputs": [
        {
          "output_type": "stream",
          "name": "stdout",
          "text": [
            "[1 2 3 4 5]\n"
          ]
        }
      ],
      "source": [
        "import numpy as np\n",
        "#1d array\n",
        "arr = np.array([1, 2, 3, 4, 5])\n",
        "\n",
        "print(arr)"
      ]
    },
    {
      "cell_type": "code",
      "source": [
        "print(arr[::-1])\n",
        "\n",
        "print(arr[0:5:2])"
      ],
      "metadata": {
        "colab": {
          "base_uri": "https://localhost:8080/"
        },
        "id": "4Y2jEubQILrV",
        "outputId": "53dba593-3db6-488c-dc57-31b3c89d67d1"
      },
      "execution_count": null,
      "outputs": [
        {
          "output_type": "stream",
          "name": "stdout",
          "text": [
            "[5 4 3 2 1]\n",
            "[1 3 5]\n"
          ]
        }
      ]
    },
    {
      "cell_type": "code",
      "source": [
        "# 2d array\n",
        "arr = np.array([[1, 2, 3], [4, 5, 6]])\n",
        "\n",
        "print(arr)\n",
        "print(arr[0,1])"
      ],
      "metadata": {
        "colab": {
          "base_uri": "https://localhost:8080/"
        },
        "id": "d9YHRr-5GcrJ",
        "outputId": "a60eda2f-d433-4bae-90c7-228e47c519fa"
      },
      "execution_count": null,
      "outputs": [
        {
          "output_type": "stream",
          "name": "stdout",
          "text": [
            "[[1 2 3]\n",
            " [4 5 6]]\n",
            "2\n"
          ]
        }
      ]
    },
    {
      "cell_type": "code",
      "source": [
        "#3d array\n",
        "arr = np.array([[[1, 2, 3], [4, 5, 6]], [[1, 2, 3], [4, 5, 6]]])\n",
        "\n",
        "print(arr)\n",
        "print(arr.dtype)\n",
        "print(arr[0,1,0])"
      ],
      "metadata": {
        "colab": {
          "base_uri": "https://localhost:8080/"
        },
        "id": "aRg-hZ71HP1V",
        "outputId": "a0e61571-1ba4-4773-f57d-392a333757f4"
      },
      "execution_count": null,
      "outputs": [
        {
          "output_type": "stream",
          "name": "stdout",
          "text": [
            "[[[1 2 3]\n",
            "  [4 5 6]]\n",
            "\n",
            " [[1 2 3]\n",
            "  [4 5 6]]]\n",
            "int64\n",
            "4\n"
          ]
        }
      ]
    },
    {
      "cell_type": "code",
      "source": [
        "arr.astype(float)"
      ],
      "metadata": {
        "colab": {
          "base_uri": "https://localhost:8080/"
        },
        "id": "q8RLb4GKHZNQ",
        "outputId": "717ebdda-ff5b-4105-c788-c29e6c89017a"
      },
      "execution_count": null,
      "outputs": [
        {
          "output_type": "execute_result",
          "data": {
            "text/plain": [
              "array([[[1., 2., 3.],\n",
              "        [4., 5., 6.]],\n",
              "\n",
              "       [[1., 2., 3.],\n",
              "        [4., 5., 6.]]])"
            ]
          },
          "metadata": {},
          "execution_count": 11
        }
      ]
    },
    {
      "cell_type": "code",
      "source": [
        "\n",
        "arr = np.array([1, 2, 3, 4, 5, 6])\n",
        "\n",
        "print(arr)"
      ],
      "metadata": {
        "colab": {
          "base_uri": "https://localhost:8080/"
        },
        "id": "N1rnEXmnKcF5",
        "outputId": "0bb34358-f57f-483e-85a5-176246f172ee"
      },
      "execution_count": null,
      "outputs": [
        {
          "output_type": "stream",
          "name": "stdout",
          "text": [
            "[1 2 3 4 5 6]\n"
          ]
        }
      ]
    },
    {
      "cell_type": "code",
      "source": [
        "#view\n",
        "\n",
        "x = arr.view()\n",
        "x[0] = 42\n",
        "\n",
        "print(arr)\n",
        "print(x)"
      ],
      "metadata": {
        "colab": {
          "base_uri": "https://localhost:8080/"
        },
        "id": "jbIJFDN8Lh_y",
        "outputId": "4291d065-2b7c-4312-d9b3-10e48b0da62b"
      },
      "execution_count": null,
      "outputs": [
        {
          "output_type": "stream",
          "name": "stdout",
          "text": [
            "[42  2  3  4  5  6]\n",
            "[42  2  3  4  5  6]\n"
          ]
        }
      ]
    },
    {
      "cell_type": "code",
      "source": [
        "#copy\n",
        "x = arr.copy()\n",
        "x[0] = 1\n",
        "\n",
        "print(arr)\n",
        "print(x)"
      ],
      "metadata": {
        "colab": {
          "base_uri": "https://localhost:8080/"
        },
        "id": "NqRZxGfMLtaN",
        "outputId": "477469f2-f180-4b32-b867-2bef23a7f12d"
      },
      "execution_count": null,
      "outputs": [
        {
          "output_type": "stream",
          "name": "stdout",
          "text": [
            "[42  2  3  4  5  6]\n",
            "[1 2 3 4 5 6]\n"
          ]
        }
      ]
    },
    {
      "cell_type": "code",
      "source": [
        "#reshape\n",
        "newarr = arr.reshape( 2, 3)\n",
        "\n",
        "print(newarr)\n"
      ],
      "metadata": {
        "colab": {
          "base_uri": "https://localhost:8080/"
        },
        "id": "1ryPEwU2L-Je",
        "outputId": "be8ab91a-e5a7-4b37-dd7b-073b27ffc499"
      },
      "execution_count": null,
      "outputs": [
        {
          "output_type": "stream",
          "name": "stdout",
          "text": [
            "[[42  2  3]\n",
            " [ 4  5  6]]\n"
          ]
        }
      ]
    },
    {
      "cell_type": "code",
      "source": [
        "print(newarr.reshape(-1))\n"
      ],
      "metadata": {
        "colab": {
          "base_uri": "https://localhost:8080/"
        },
        "id": "DadMHb84MW-L",
        "outputId": "3265ad7a-d4d2-4715-891c-c7bae9b1d241"
      },
      "execution_count": null,
      "outputs": [
        {
          "output_type": "stream",
          "name": "stdout",
          "text": [
            "[42  2  3  4  5  6]\n"
          ]
        }
      ]
    },
    {
      "cell_type": "code",
      "source": [
        "#spliting\n",
        "newarr = np.array_split(arr, 3)\n",
        "\n",
        "print(newarr)"
      ],
      "metadata": {
        "colab": {
          "base_uri": "https://localhost:8080/"
        },
        "id": "wpip1SKOM8m7",
        "outputId": "b9724d53-980b-4e84-9a0c-61d8beb0fd86"
      },
      "execution_count": null,
      "outputs": [
        {
          "output_type": "stream",
          "name": "stdout",
          "text": [
            "[array([42,  2]), array([3, 4]), array([5, 6])]\n"
          ]
        }
      ]
    },
    {
      "cell_type": "code",
      "source": [
        "#sorting\n",
        "print(np.sort(arr))\n"
      ],
      "metadata": {
        "colab": {
          "base_uri": "https://localhost:8080/"
        },
        "id": "YGl4nlpHNmSh",
        "outputId": "a80ef277-e4f6-4f51-cc66-b7cb6110d99c"
      },
      "execution_count": null,
      "outputs": [
        {
          "output_type": "stream",
          "name": "stdout",
          "text": [
            "[ 2  3  4  5  6 42]\n"
          ]
        }
      ]
    },
    {
      "cell_type": "markdown",
      "source": [
        "Pandas"
      ],
      "metadata": {
        "id": "gD7uuOEzPPxg"
      }
    },
    {
      "cell_type": "code",
      "source": [
        "import pandas as pd\n"
      ],
      "metadata": {
        "id": "Xex_g1pkNyXS"
      },
      "execution_count": null,
      "outputs": []
    },
    {
      "cell_type": "code",
      "source": [
        "#data frame\n",
        "data = {\n",
        "  \"calories\": [420, 380, 390],\n",
        "  \"duration\": [50, 40, 45]\n",
        "}\n",
        "\n",
        "var = pd.DataFrame(data, index = [\"day1\", \"day2\", \"day3\"])\n",
        "\n",
        "\n",
        "var\n",
        "# print(var)"
      ],
      "metadata": {
        "colab": {
          "base_uri": "https://localhost:8080/",
          "height": 143
        },
        "id": "dUMkmXg0PGcH",
        "outputId": "7c78ce07-ddcb-4e4c-f99e-c350175d2390"
      },
      "execution_count": null,
      "outputs": [
        {
          "output_type": "execute_result",
          "data": {
            "text/plain": [
              "      calories  duration\n",
              "day1       420        50\n",
              "day2       380        40\n",
              "day3       390        45"
            ],
            "text/html": [
              "\n",
              "  <div id=\"df-524dd60e-4b75-4bfc-9cb8-dbdef7d6da3f\" class=\"colab-df-container\">\n",
              "    <div>\n",
              "<style scoped>\n",
              "    .dataframe tbody tr th:only-of-type {\n",
              "        vertical-align: middle;\n",
              "    }\n",
              "\n",
              "    .dataframe tbody tr th {\n",
              "        vertical-align: top;\n",
              "    }\n",
              "\n",
              "    .dataframe thead th {\n",
              "        text-align: right;\n",
              "    }\n",
              "</style>\n",
              "<table border=\"1\" class=\"dataframe\">\n",
              "  <thead>\n",
              "    <tr style=\"text-align: right;\">\n",
              "      <th></th>\n",
              "      <th>calories</th>\n",
              "      <th>duration</th>\n",
              "    </tr>\n",
              "  </thead>\n",
              "  <tbody>\n",
              "    <tr>\n",
              "      <th>day1</th>\n",
              "      <td>420</td>\n",
              "      <td>50</td>\n",
              "    </tr>\n",
              "    <tr>\n",
              "      <th>day2</th>\n",
              "      <td>380</td>\n",
              "      <td>40</td>\n",
              "    </tr>\n",
              "    <tr>\n",
              "      <th>day3</th>\n",
              "      <td>390</td>\n",
              "      <td>45</td>\n",
              "    </tr>\n",
              "  </tbody>\n",
              "</table>\n",
              "</div>\n",
              "    <div class=\"colab-df-buttons\">\n",
              "\n",
              "  <div class=\"colab-df-container\">\n",
              "    <button class=\"colab-df-convert\" onclick=\"convertToInteractive('df-524dd60e-4b75-4bfc-9cb8-dbdef7d6da3f')\"\n",
              "            title=\"Convert this dataframe to an interactive table.\"\n",
              "            style=\"display:none;\">\n",
              "\n",
              "  <svg xmlns=\"http://www.w3.org/2000/svg\" height=\"24px\" viewBox=\"0 -960 960 960\">\n",
              "    <path d=\"M120-120v-720h720v720H120Zm60-500h600v-160H180v160Zm220 220h160v-160H400v160Zm0 220h160v-160H400v160ZM180-400h160v-160H180v160Zm440 0h160v-160H620v160ZM180-180h160v-160H180v160Zm440 0h160v-160H620v160Z\"/>\n",
              "  </svg>\n",
              "    </button>\n",
              "\n",
              "  <style>\n",
              "    .colab-df-container {\n",
              "      display:flex;\n",
              "      gap: 12px;\n",
              "    }\n",
              "\n",
              "    .colab-df-convert {\n",
              "      background-color: #E8F0FE;\n",
              "      border: none;\n",
              "      border-radius: 50%;\n",
              "      cursor: pointer;\n",
              "      display: none;\n",
              "      fill: #1967D2;\n",
              "      height: 32px;\n",
              "      padding: 0 0 0 0;\n",
              "      width: 32px;\n",
              "    }\n",
              "\n",
              "    .colab-df-convert:hover {\n",
              "      background-color: #E2EBFA;\n",
              "      box-shadow: 0px 1px 2px rgba(60, 64, 67, 0.3), 0px 1px 3px 1px rgba(60, 64, 67, 0.15);\n",
              "      fill: #174EA6;\n",
              "    }\n",
              "\n",
              "    .colab-df-buttons div {\n",
              "      margin-bottom: 4px;\n",
              "    }\n",
              "\n",
              "    [theme=dark] .colab-df-convert {\n",
              "      background-color: #3B4455;\n",
              "      fill: #D2E3FC;\n",
              "    }\n",
              "\n",
              "    [theme=dark] .colab-df-convert:hover {\n",
              "      background-color: #434B5C;\n",
              "      box-shadow: 0px 1px 3px 1px rgba(0, 0, 0, 0.15);\n",
              "      filter: drop-shadow(0px 1px 2px rgba(0, 0, 0, 0.3));\n",
              "      fill: #FFFFFF;\n",
              "    }\n",
              "  </style>\n",
              "\n",
              "    <script>\n",
              "      const buttonEl =\n",
              "        document.querySelector('#df-524dd60e-4b75-4bfc-9cb8-dbdef7d6da3f button.colab-df-convert');\n",
              "      buttonEl.style.display =\n",
              "        google.colab.kernel.accessAllowed ? 'block' : 'none';\n",
              "\n",
              "      async function convertToInteractive(key) {\n",
              "        const element = document.querySelector('#df-524dd60e-4b75-4bfc-9cb8-dbdef7d6da3f');\n",
              "        const dataTable =\n",
              "          await google.colab.kernel.invokeFunction('convertToInteractive',\n",
              "                                                    [key], {});\n",
              "        if (!dataTable) return;\n",
              "\n",
              "        const docLinkHtml = 'Like what you see? Visit the ' +\n",
              "          '<a target=\"_blank\" href=https://colab.research.google.com/notebooks/data_table.ipynb>data table notebook</a>'\n",
              "          + ' to learn more about interactive tables.';\n",
              "        element.innerHTML = '';\n",
              "        dataTable['output_type'] = 'display_data';\n",
              "        await google.colab.output.renderOutput(dataTable, element);\n",
              "        const docLink = document.createElement('div');\n",
              "        docLink.innerHTML = docLinkHtml;\n",
              "        element.appendChild(docLink);\n",
              "      }\n",
              "    </script>\n",
              "  </div>\n",
              "\n",
              "\n",
              "    <div id=\"df-0e40e789-a822-40ac-a3f4-8b59583a304b\">\n",
              "      <button class=\"colab-df-quickchart\" onclick=\"quickchart('df-0e40e789-a822-40ac-a3f4-8b59583a304b')\"\n",
              "                title=\"Suggest charts\"\n",
              "                style=\"display:none;\">\n",
              "\n",
              "<svg xmlns=\"http://www.w3.org/2000/svg\" height=\"24px\"viewBox=\"0 0 24 24\"\n",
              "     width=\"24px\">\n",
              "    <g>\n",
              "        <path d=\"M19 3H5c-1.1 0-2 .9-2 2v14c0 1.1.9 2 2 2h14c1.1 0 2-.9 2-2V5c0-1.1-.9-2-2-2zM9 17H7v-7h2v7zm4 0h-2V7h2v10zm4 0h-2v-4h2v4z\"/>\n",
              "    </g>\n",
              "</svg>\n",
              "      </button>\n",
              "\n",
              "<style>\n",
              "  .colab-df-quickchart {\n",
              "      --bg-color: #E8F0FE;\n",
              "      --fill-color: #1967D2;\n",
              "      --hover-bg-color: #E2EBFA;\n",
              "      --hover-fill-color: #174EA6;\n",
              "      --disabled-fill-color: #AAA;\n",
              "      --disabled-bg-color: #DDD;\n",
              "  }\n",
              "\n",
              "  [theme=dark] .colab-df-quickchart {\n",
              "      --bg-color: #3B4455;\n",
              "      --fill-color: #D2E3FC;\n",
              "      --hover-bg-color: #434B5C;\n",
              "      --hover-fill-color: #FFFFFF;\n",
              "      --disabled-bg-color: #3B4455;\n",
              "      --disabled-fill-color: #666;\n",
              "  }\n",
              "\n",
              "  .colab-df-quickchart {\n",
              "    background-color: var(--bg-color);\n",
              "    border: none;\n",
              "    border-radius: 50%;\n",
              "    cursor: pointer;\n",
              "    display: none;\n",
              "    fill: var(--fill-color);\n",
              "    height: 32px;\n",
              "    padding: 0;\n",
              "    width: 32px;\n",
              "  }\n",
              "\n",
              "  .colab-df-quickchart:hover {\n",
              "    background-color: var(--hover-bg-color);\n",
              "    box-shadow: 0 1px 2px rgba(60, 64, 67, 0.3), 0 1px 3px 1px rgba(60, 64, 67, 0.15);\n",
              "    fill: var(--button-hover-fill-color);\n",
              "  }\n",
              "\n",
              "  .colab-df-quickchart-complete:disabled,\n",
              "  .colab-df-quickchart-complete:disabled:hover {\n",
              "    background-color: var(--disabled-bg-color);\n",
              "    fill: var(--disabled-fill-color);\n",
              "    box-shadow: none;\n",
              "  }\n",
              "\n",
              "  .colab-df-spinner {\n",
              "    border: 2px solid var(--fill-color);\n",
              "    border-color: transparent;\n",
              "    border-bottom-color: var(--fill-color);\n",
              "    animation:\n",
              "      spin 1s steps(1) infinite;\n",
              "  }\n",
              "\n",
              "  @keyframes spin {\n",
              "    0% {\n",
              "      border-color: transparent;\n",
              "      border-bottom-color: var(--fill-color);\n",
              "      border-left-color: var(--fill-color);\n",
              "    }\n",
              "    20% {\n",
              "      border-color: transparent;\n",
              "      border-left-color: var(--fill-color);\n",
              "      border-top-color: var(--fill-color);\n",
              "    }\n",
              "    30% {\n",
              "      border-color: transparent;\n",
              "      border-left-color: var(--fill-color);\n",
              "      border-top-color: var(--fill-color);\n",
              "      border-right-color: var(--fill-color);\n",
              "    }\n",
              "    40% {\n",
              "      border-color: transparent;\n",
              "      border-right-color: var(--fill-color);\n",
              "      border-top-color: var(--fill-color);\n",
              "    }\n",
              "    60% {\n",
              "      border-color: transparent;\n",
              "      border-right-color: var(--fill-color);\n",
              "    }\n",
              "    80% {\n",
              "      border-color: transparent;\n",
              "      border-right-color: var(--fill-color);\n",
              "      border-bottom-color: var(--fill-color);\n",
              "    }\n",
              "    90% {\n",
              "      border-color: transparent;\n",
              "      border-bottom-color: var(--fill-color);\n",
              "    }\n",
              "  }\n",
              "</style>\n",
              "\n",
              "      <script>\n",
              "        async function quickchart(key) {\n",
              "          const quickchartButtonEl =\n",
              "            document.querySelector('#' + key + ' button');\n",
              "          quickchartButtonEl.disabled = true;  // To prevent multiple clicks.\n",
              "          quickchartButtonEl.classList.add('colab-df-spinner');\n",
              "          try {\n",
              "            const charts = await google.colab.kernel.invokeFunction(\n",
              "                'suggestCharts', [key], {});\n",
              "          } catch (error) {\n",
              "            console.error('Error during call to suggestCharts:', error);\n",
              "          }\n",
              "          quickchartButtonEl.classList.remove('colab-df-spinner');\n",
              "          quickchartButtonEl.classList.add('colab-df-quickchart-complete');\n",
              "        }\n",
              "        (() => {\n",
              "          let quickchartButtonEl =\n",
              "            document.querySelector('#df-0e40e789-a822-40ac-a3f4-8b59583a304b button');\n",
              "          quickchartButtonEl.style.display =\n",
              "            google.colab.kernel.accessAllowed ? 'block' : 'none';\n",
              "        })();\n",
              "      </script>\n",
              "    </div>\n",
              "\n",
              "  <div id=\"id_1148ea04-3d66-4029-8667-571cff37aa27\">\n",
              "    <style>\n",
              "      .colab-df-generate {\n",
              "        background-color: #E8F0FE;\n",
              "        border: none;\n",
              "        border-radius: 50%;\n",
              "        cursor: pointer;\n",
              "        display: none;\n",
              "        fill: #1967D2;\n",
              "        height: 32px;\n",
              "        padding: 0 0 0 0;\n",
              "        width: 32px;\n",
              "      }\n",
              "\n",
              "      .colab-df-generate:hover {\n",
              "        background-color: #E2EBFA;\n",
              "        box-shadow: 0px 1px 2px rgba(60, 64, 67, 0.3), 0px 1px 3px 1px rgba(60, 64, 67, 0.15);\n",
              "        fill: #174EA6;\n",
              "      }\n",
              "\n",
              "      [theme=dark] .colab-df-generate {\n",
              "        background-color: #3B4455;\n",
              "        fill: #D2E3FC;\n",
              "      }\n",
              "\n",
              "      [theme=dark] .colab-df-generate:hover {\n",
              "        background-color: #434B5C;\n",
              "        box-shadow: 0px 1px 3px 1px rgba(0, 0, 0, 0.15);\n",
              "        filter: drop-shadow(0px 1px 2px rgba(0, 0, 0, 0.3));\n",
              "        fill: #FFFFFF;\n",
              "      }\n",
              "    </style>\n",
              "    <button class=\"colab-df-generate\" onclick=\"generateWithVariable('var')\"\n",
              "            title=\"Generate code using this dataframe.\"\n",
              "            style=\"display:none;\">\n",
              "\n",
              "  <svg xmlns=\"http://www.w3.org/2000/svg\" height=\"24px\"viewBox=\"0 0 24 24\"\n",
              "       width=\"24px\">\n",
              "    <path d=\"M7,19H8.4L18.45,9,17,7.55,7,17.6ZM5,21V16.75L18.45,3.32a2,2,0,0,1,2.83,0l1.4,1.43a1.91,1.91,0,0,1,.58,1.4,1.91,1.91,0,0,1-.58,1.4L9.25,21ZM18.45,9,17,7.55Zm-12,3A5.31,5.31,0,0,0,4.9,8.1,5.31,5.31,0,0,0,1,6.5,5.31,5.31,0,0,0,4.9,4.9,5.31,5.31,0,0,0,6.5,1,5.31,5.31,0,0,0,8.1,4.9,5.31,5.31,0,0,0,12,6.5,5.46,5.46,0,0,0,6.5,12Z\"/>\n",
              "  </svg>\n",
              "    </button>\n",
              "    <script>\n",
              "      (() => {\n",
              "      const buttonEl =\n",
              "        document.querySelector('#id_1148ea04-3d66-4029-8667-571cff37aa27 button.colab-df-generate');\n",
              "      buttonEl.style.display =\n",
              "        google.colab.kernel.accessAllowed ? 'block' : 'none';\n",
              "\n",
              "      buttonEl.onclick = () => {\n",
              "        google.colab.notebook.generateWithVariable('var');\n",
              "      }\n",
              "      })();\n",
              "    </script>\n",
              "  </div>\n",
              "\n",
              "    </div>\n",
              "  </div>\n"
            ],
            "application/vnd.google.colaboratory.intrinsic+json": {
              "type": "dataframe",
              "variable_name": "var",
              "summary": "{\n  \"name\": \"var\",\n  \"rows\": 3,\n  \"fields\": [\n    {\n      \"column\": \"calories\",\n      \"properties\": {\n        \"dtype\": \"number\",\n        \"std\": 20,\n        \"min\": 380,\n        \"max\": 420,\n        \"num_unique_values\": 3,\n        \"samples\": [\n          420,\n          380,\n          390\n        ],\n        \"semantic_type\": \"\",\n        \"description\": \"\"\n      }\n    },\n    {\n      \"column\": \"duration\",\n      \"properties\": {\n        \"dtype\": \"number\",\n        \"std\": 5,\n        \"min\": 40,\n        \"max\": 50,\n        \"num_unique_values\": 3,\n        \"samples\": [\n          50,\n          40,\n          45\n        ],\n        \"semantic_type\": \"\",\n        \"description\": \"\"\n      }\n    }\n  ]\n}"
            }
          },
          "metadata": {},
          "execution_count": 20
        }
      ]
    },
    {
      "cell_type": "code",
      "source": [
        "print(var.iloc[[0, 1 , 2]])\n",
        "\n",
        "# print(var.loc[\"day2\"])\n"
      ],
      "metadata": {
        "colab": {
          "base_uri": "https://localhost:8080/"
        },
        "id": "KZ4f2GMFSQNo",
        "outputId": "4f80a19b-7a0f-4947-b3ed-588dc64bfb88"
      },
      "execution_count": null,
      "outputs": [
        {
          "output_type": "stream",
          "name": "stdout",
          "text": [
            "      calories  duration\n",
            "day1       420        50\n",
            "day2       380        40\n",
            "day3       390        45\n"
          ]
        }
      ]
    },
    {
      "cell_type": "code",
      "source": [
        "#series\n",
        "a = [1, 7, 2]\n",
        "\n",
        "var = pd.Series(a, index = ['x', 'y', 'z'])\n",
        "var\n",
        "\n",
        "# print(var)"
      ],
      "metadata": {
        "colab": {
          "base_uri": "https://localhost:8080/",
          "height": 178
        },
        "id": "7qyuoxXfQo4D",
        "outputId": "68447297-fc7c-4f75-b459-8e2869bb041d"
      },
      "execution_count": null,
      "outputs": [
        {
          "output_type": "execute_result",
          "data": {
            "text/plain": [
              "x    1\n",
              "y    7\n",
              "z    2\n",
              "dtype: int64"
            ],
            "text/html": [
              "<div>\n",
              "<style scoped>\n",
              "    .dataframe tbody tr th:only-of-type {\n",
              "        vertical-align: middle;\n",
              "    }\n",
              "\n",
              "    .dataframe tbody tr th {\n",
              "        vertical-align: top;\n",
              "    }\n",
              "\n",
              "    .dataframe thead th {\n",
              "        text-align: right;\n",
              "    }\n",
              "</style>\n",
              "<table border=\"1\" class=\"dataframe\">\n",
              "  <thead>\n",
              "    <tr style=\"text-align: right;\">\n",
              "      <th></th>\n",
              "      <th>0</th>\n",
              "    </tr>\n",
              "  </thead>\n",
              "  <tbody>\n",
              "    <tr>\n",
              "      <th>x</th>\n",
              "      <td>1</td>\n",
              "    </tr>\n",
              "    <tr>\n",
              "      <th>y</th>\n",
              "      <td>7</td>\n",
              "    </tr>\n",
              "    <tr>\n",
              "      <th>z</th>\n",
              "      <td>2</td>\n",
              "    </tr>\n",
              "  </tbody>\n",
              "</table>\n",
              "</div><br><label><b>dtype:</b> int64</label>"
            ]
          },
          "metadata": {},
          "execution_count": 22
        }
      ]
    },
    {
      "cell_type": "code",
      "source": [
        "\n",
        "calories = {\"day1\": 420, \"day2\": 380, \"day3\": 390}\n",
        "myvar= pd.Series(calories)\n",
        "print(myvar)"
      ],
      "metadata": {
        "colab": {
          "base_uri": "https://localhost:8080/"
        },
        "id": "GgYLksV8QN-t",
        "outputId": "2b1610e7-9dd8-4d4a-9c09-f088dce7393e"
      },
      "execution_count": null,
      "outputs": [
        {
          "output_type": "stream",
          "name": "stdout",
          "text": [
            "day1    420\n",
            "day2    380\n",
            "day3    390\n",
            "dtype: int64\n"
          ]
        }
      ]
    },
    {
      "cell_type": "code",
      "source": [
        "my_ = pd.Series(calories, index = [\"day1\", \"day2\"])\n",
        "my_"
      ],
      "metadata": {
        "colab": {
          "base_uri": "https://localhost:8080/",
          "height": 147
        },
        "id": "bGzeraa7RcDa",
        "outputId": "a338e993-7016-416f-cef3-f34dd8e5026f"
      },
      "execution_count": null,
      "outputs": [
        {
          "output_type": "execute_result",
          "data": {
            "text/plain": [
              "day1    420\n",
              "day2    380\n",
              "dtype: int64"
            ],
            "text/html": [
              "<div>\n",
              "<style scoped>\n",
              "    .dataframe tbody tr th:only-of-type {\n",
              "        vertical-align: middle;\n",
              "    }\n",
              "\n",
              "    .dataframe tbody tr th {\n",
              "        vertical-align: top;\n",
              "    }\n",
              "\n",
              "    .dataframe thead th {\n",
              "        text-align: right;\n",
              "    }\n",
              "</style>\n",
              "<table border=\"1\" class=\"dataframe\">\n",
              "  <thead>\n",
              "    <tr style=\"text-align: right;\">\n",
              "      <th></th>\n",
              "      <th>0</th>\n",
              "    </tr>\n",
              "  </thead>\n",
              "  <tbody>\n",
              "    <tr>\n",
              "      <th>day1</th>\n",
              "      <td>420</td>\n",
              "    </tr>\n",
              "    <tr>\n",
              "      <th>day2</th>\n",
              "      <td>380</td>\n",
              "    </tr>\n",
              "  </tbody>\n",
              "</table>\n",
              "</div><br><label><b>dtype:</b> int64</label>"
            ]
          },
          "metadata": {},
          "execution_count": 24
        }
      ]
    },
    {
      "cell_type": "code",
      "source": [
        "df = pd.read_csv('/content/ncr_ride_bookings.csv')\n",
        "\n",
        "print(df)"
      ],
      "metadata": {
        "colab": {
          "base_uri": "https://localhost:8080/"
        },
        "id": "VuiqTVfASBx5",
        "outputId": "6e8d8960-8639-4f48-d8c0-66f27e4b9850"
      },
      "execution_count": null,
      "outputs": [
        {
          "output_type": "stream",
          "name": "stdout",
          "text": [
            "              Date      Time    Booking ID   Booking Status   Customer ID  \\\n",
            "0       2024-03-23  12:29:38  \"CNR5884300\"  No Driver Found  \"CID1982111\"   \n",
            "1       2024-11-29  18:01:39  \"CNR1326809\"       Incomplete  \"CID4604802\"   \n",
            "2       2024-08-23  08:56:10  \"CNR8494506\"        Completed  \"CID9202816\"   \n",
            "3       2024-10-21  17:17:25  \"CNR8906825\"        Completed  \"CID2610914\"   \n",
            "4       2024-09-16  22:08:00  \"CNR1950162\"        Completed  \"CID9933542\"   \n",
            "...            ...       ...           ...              ...           ...   \n",
            "149995  2024-11-11  19:34:01  \"CNR6500631\"        Completed  \"CID4337371\"   \n",
            "149996  2024-11-24  15:55:09  \"CNR2468611\"        Completed  \"CID2325623\"   \n",
            "149997  2024-09-18  10:55:15  \"CNR6358306\"        Completed  \"CID9925486\"   \n",
            "149998  2024-10-05  07:53:34  \"CNR3030099\"        Completed  \"CID9415487\"   \n",
            "149999  2024-03-10  15:38:03  \"CNR3447390\"        Completed  \"CID4108667\"   \n",
            "\n",
            "         Vehicle Type         Pickup Location      Drop Location  Avg VTAT  \\\n",
            "0               eBike             Palam Vihar            Jhilmil       NaN   \n",
            "1            Go Sedan           Shastri Nagar  Gurgaon Sector 56       4.9   \n",
            "2                Auto                 Khandsa      Malviya Nagar      13.4   \n",
            "3       Premier Sedan     Central Secretariat           Inderlok      13.1   \n",
            "4                Bike        Ghitorni Village        Khan Market       5.3   \n",
            "...               ...                     ...                ...       ...   \n",
            "149995        Go Mini                 MG Road           Ghitorni      10.2   \n",
            "149996        Go Mini        Golf Course Road         Akshardham       5.1   \n",
            "149997       Go Sedan  Satguru Ram Singh Marg           Jor Bagh       2.7   \n",
            "149998           Auto               Ghaziabad         Saidulajab       6.9   \n",
            "149999  Premier Sedan         Ashok Park Main  Gurgaon Sector 29       3.5   \n",
            "\n",
            "        Avg CTAT  ...  Reason for cancelling by Customer  \\\n",
            "0            NaN  ...                                NaN   \n",
            "1           14.0  ...                                NaN   \n",
            "2           25.8  ...                                NaN   \n",
            "3           28.5  ...                                NaN   \n",
            "4           19.6  ...                                NaN   \n",
            "...          ...  ...                                ...   \n",
            "149995      44.4  ...                                NaN   \n",
            "149996      30.8  ...                                NaN   \n",
            "149997      23.4  ...                                NaN   \n",
            "149998      39.6  ...                                NaN   \n",
            "149999      33.7  ...                                NaN   \n",
            "\n",
            "       Cancelled Rides by Driver  Driver Cancellation Reason Incomplete Rides  \\\n",
            "0                            NaN                         NaN              NaN   \n",
            "1                            NaN                         NaN              1.0   \n",
            "2                            NaN                         NaN              NaN   \n",
            "3                            NaN                         NaN              NaN   \n",
            "4                            NaN                         NaN              NaN   \n",
            "...                          ...                         ...              ...   \n",
            "149995                       NaN                         NaN              NaN   \n",
            "149996                       NaN                         NaN              NaN   \n",
            "149997                       NaN                         NaN              NaN   \n",
            "149998                       NaN                         NaN              NaN   \n",
            "149999                       NaN                         NaN              NaN   \n",
            "\n",
            "        Incomplete Rides Reason Booking Value  Ride Distance  Driver Ratings  \\\n",
            "0                           NaN           NaN            NaN             NaN   \n",
            "1             Vehicle Breakdown         237.0           5.73             NaN   \n",
            "2                           NaN         627.0          13.58             4.9   \n",
            "3                           NaN         416.0          34.02             4.6   \n",
            "4                           NaN         737.0          48.21             4.1   \n",
            "...                         ...           ...            ...             ...   \n",
            "149995                      NaN         475.0          40.08             3.7   \n",
            "149996                      NaN        1093.0          21.31             4.8   \n",
            "149997                      NaN         852.0          15.93             3.9   \n",
            "149998                      NaN         333.0          45.54             4.1   \n",
            "149999                      NaN         806.0          21.19             4.6   \n",
            "\n",
            "        Customer Rating  Payment Method  \n",
            "0                   NaN             NaN  \n",
            "1                   NaN             UPI  \n",
            "2                   4.9      Debit Card  \n",
            "3                   5.0             UPI  \n",
            "4                   4.3             UPI  \n",
            "...                 ...             ...  \n",
            "149995              4.1     Uber Wallet  \n",
            "149996              5.0             UPI  \n",
            "149997              4.4            Cash  \n",
            "149998              3.7             UPI  \n",
            "149999              4.9     Credit Card  \n",
            "\n",
            "[150000 rows x 21 columns]\n"
          ]
        }
      ]
    },
    {
      "cell_type": "code",
      "source": [
        "print(df.head(20).to_string)"
      ],
      "metadata": {
        "colab": {
          "base_uri": "https://localhost:8080/"
        },
        "id": "UZZ_dft6UmvF",
        "outputId": "8f08e575-c4c9-4e99-f740-115c46ec75ca"
      },
      "execution_count": null,
      "outputs": [
        {
          "output_type": "stream",
          "name": "stdout",
          "text": [
            "<bound method DataFrame.to_string of           Date      Time    Booking ID         Booking Status   Customer ID  \\\n",
            "0   2024-03-23  12:29:38  \"CNR5884300\"        No Driver Found  \"CID1982111\"   \n",
            "1   2024-11-29  18:01:39  \"CNR1326809\"             Incomplete  \"CID4604802\"   \n",
            "2   2024-08-23  08:56:10  \"CNR8494506\"              Completed  \"CID9202816\"   \n",
            "3   2024-10-21  17:17:25  \"CNR8906825\"              Completed  \"CID2610914\"   \n",
            "4   2024-09-16  22:08:00  \"CNR1950162\"              Completed  \"CID9933542\"   \n",
            "5   2024-02-06  09:44:56  \"CNR4096693\"              Completed  \"CID4670564\"   \n",
            "6   2024-06-17  15:45:58  \"CNR2002539\"              Completed  \"CID6800553\"   \n",
            "7   2024-03-19  17:37:37  \"CNR6568000\"              Completed  \"CID8610436\"   \n",
            "8   2024-09-14  12:49:09  \"CNR4510807\"        No Driver Found  \"CID7873618\"   \n",
            "9   2024-12-16  19:06:48  \"CNR7721892\"             Incomplete  \"CID5214275\"   \n",
            "10  2024-06-14  16:24:12  \"CNR9070334\"              Completed  \"CID6680340\"   \n",
            "11  2024-09-18  08:09:38  \"CNR9551927\"        No Driver Found  \"CID7568143\"   \n",
            "12  2024-06-25  22:44:15  \"CNR4386945\"    Cancelled by Driver  \"CID5543520\"   \n",
            "13  2024-09-11  19:29:39  \"CNR2987763\"              Completed  \"CID2669710\"   \n",
            "14  2024-10-18  18:28:53  \"CNR8962232\"              Completed  \"CID1789354\"   \n",
            "15  2024-06-07  15:05:35  \"CNR2390352\"              Completed  \"CID5432215\"   \n",
            "16  2024-07-01  10:51:16  \"CNR3221338\"              Completed  \"CID2581698\"   \n",
            "17  2024-12-15  15:08:25  \"CNR6739317\"    Cancelled by Driver  \"CID8682675\"   \n",
            "18  2024-11-24  09:07:10  \"CNR6126048\"  Cancelled by Customer  \"CID1060329\"   \n",
            "19  2024-05-24  19:53:57  \"CNR9465840\"    Cancelled by Driver  \"CID9046501\"   \n",
            "\n",
            "     Vehicle Type      Pickup Location      Drop Location  Avg VTAT  Avg CTAT  \\\n",
            "0           eBike          Palam Vihar            Jhilmil       NaN       NaN   \n",
            "1        Go Sedan        Shastri Nagar  Gurgaon Sector 56       4.9      14.0   \n",
            "2            Auto              Khandsa      Malviya Nagar      13.4      25.8   \n",
            "3   Premier Sedan  Central Secretariat           Inderlok      13.1      28.5   \n",
            "4            Bike     Ghitorni Village        Khan Market       5.3      19.6   \n",
            "5            Auto                AIIMS        Narsinghpur       5.1      18.1   \n",
            "6         Go Mini             Vaishali       Punjabi Bagh       7.1      20.4   \n",
            "7            Auto          Mayur Vihar          Cyber Hub      12.1      16.5   \n",
            "8        Go Sedan      Noida Sector 62    Noida Sector 18       NaN       NaN   \n",
            "9            Auto               Rohini       Adarsh Nagar       6.1      26.0   \n",
            "10           Auto         Udyog Bhawan   Dwarka Sector 21       7.7      18.9   \n",
            "11           Auto         Vidhan Sabha              AIIMS       NaN       NaN   \n",
            "12          eBike          Patel Chowk  Kherki Daula Toll       4.6       NaN   \n",
            "13        Go Mini        Malviya Nagar   Ghitorni Village      12.2      28.2   \n",
            "14        Go Mini              Madipur          GTB Nagar      14.0      30.9   \n",
            "15           Auto          Jama Masjid        Khan Market       8.5      36.9   \n",
            "16  Premier Sedan          IGI Airport            Madipur       5.6      27.5   \n",
            "17       Go Sedan           Vinobapuri          GTB Nagar       6.0       NaN   \n",
            "18          eBike        Kashmere Gate        Anand Vihar      12.4       NaN   \n",
            "19          eBike            Pitampura        Rajiv Nagar      10.3       NaN   \n",
            "\n",
            "    ...             Reason for cancelling by Customer  \\\n",
            "0   ...                                           NaN   \n",
            "1   ...                                           NaN   \n",
            "2   ...                                           NaN   \n",
            "3   ...                                           NaN   \n",
            "4   ...                                           NaN   \n",
            "5   ...                                           NaN   \n",
            "6   ...                                           NaN   \n",
            "7   ...                                           NaN   \n",
            "8   ...                                           NaN   \n",
            "9   ...                                           NaN   \n",
            "10  ...                                           NaN   \n",
            "11  ...                                           NaN   \n",
            "12  ...                                           NaN   \n",
            "13  ...                                           NaN   \n",
            "14  ...                                           NaN   \n",
            "15  ...                                           NaN   \n",
            "16  ...                                           NaN   \n",
            "17  ...                                           NaN   \n",
            "18  ...  Driver is not moving towards pickup location   \n",
            "19  ...                                           NaN   \n",
            "\n",
            "   Cancelled Rides by Driver     Driver Cancellation Reason Incomplete Rides  \\\n",
            "0                        NaN                            NaN              NaN   \n",
            "1                        NaN                            NaN              1.0   \n",
            "2                        NaN                            NaN              NaN   \n",
            "3                        NaN                            NaN              NaN   \n",
            "4                        NaN                            NaN              NaN   \n",
            "5                        NaN                            NaN              NaN   \n",
            "6                        NaN                            NaN              NaN   \n",
            "7                        NaN                            NaN              NaN   \n",
            "8                        NaN                            NaN              NaN   \n",
            "9                        NaN                            NaN              1.0   \n",
            "10                       NaN                            NaN              NaN   \n",
            "11                       NaN                            NaN              NaN   \n",
            "12                       1.0  Personal & Car related issues              NaN   \n",
            "13                       NaN                            NaN              NaN   \n",
            "14                       NaN                            NaN              NaN   \n",
            "15                       NaN                            NaN              NaN   \n",
            "16                       NaN                            NaN              NaN   \n",
            "17                       1.0         Customer related issue              NaN   \n",
            "18                       NaN                            NaN              NaN   \n",
            "19                       1.0         Customer related issue              NaN   \n",
            "\n",
            "    Incomplete Rides Reason Booking Value  Ride Distance  Driver Ratings  \\\n",
            "0                       NaN           NaN            NaN             NaN   \n",
            "1         Vehicle Breakdown         237.0           5.73             NaN   \n",
            "2                       NaN         627.0          13.58             4.9   \n",
            "3                       NaN         416.0          34.02             4.6   \n",
            "4                       NaN         737.0          48.21             4.1   \n",
            "5                       NaN         316.0           4.85             4.1   \n",
            "6                       NaN         640.0          41.24             4.0   \n",
            "7                       NaN         136.0           6.56             4.4   \n",
            "8                       NaN           NaN            NaN             NaN   \n",
            "9               Other Issue         135.0          10.36             NaN   \n",
            "10                      NaN         181.0          19.84             4.2   \n",
            "11                      NaN           NaN            NaN             NaN   \n",
            "12                      NaN           NaN            NaN             NaN   \n",
            "13                      NaN         394.0          21.44             4.1   \n",
            "14                      NaN         836.0          39.55             4.7   \n",
            "15                      NaN         410.0          34.76             4.0   \n",
            "16                      NaN         401.0          21.97             4.9   \n",
            "17                      NaN           NaN            NaN             NaN   \n",
            "18                      NaN           NaN            NaN             NaN   \n",
            "19                      NaN           NaN            NaN             NaN   \n",
            "\n",
            "    Customer Rating  Payment Method  \n",
            "0               NaN             NaN  \n",
            "1               NaN             UPI  \n",
            "2               4.9      Debit Card  \n",
            "3               5.0             UPI  \n",
            "4               4.3             UPI  \n",
            "5               4.6             UPI  \n",
            "6               4.1             UPI  \n",
            "7               4.2             UPI  \n",
            "8               NaN             NaN  \n",
            "9               NaN            Cash  \n",
            "10              4.9            Cash  \n",
            "11              NaN             NaN  \n",
            "12              NaN             NaN  \n",
            "13              4.7             UPI  \n",
            "14              4.4             UPI  \n",
            "15              4.9     Uber Wallet  \n",
            "16              4.3             UPI  \n",
            "17              NaN             NaN  \n",
            "18              NaN             NaN  \n",
            "19              NaN             NaN  \n",
            "\n",
            "[20 rows x 21 columns]>\n"
          ]
        }
      ]
    },
    {
      "cell_type": "code",
      "source": [
        "print(df.tail(20).to_string)"
      ],
      "metadata": {
        "colab": {
          "base_uri": "https://localhost:8080/"
        },
        "id": "xGmGi7CbVlXn",
        "outputId": "ccc5d2b8-759d-4994-e950-29cc24587d55"
      },
      "execution_count": null,
      "outputs": [
        {
          "output_type": "stream",
          "name": "stdout",
          "text": [
            "<bound method DataFrame.to_string of               Date      Time    Booking ID       Booking Status   Customer ID  \\\n",
            "149980  2024-12-10  15:31:45  \"CNR6231822\"      No Driver Found  \"CID6232718\"   \n",
            "149981  2024-12-10  09:46:40  \"CNR9611749\"            Completed  \"CID1686695\"   \n",
            "149982  2024-11-13  06:51:19  \"CNR4448255\"      No Driver Found  \"CID9138957\"   \n",
            "149983  2024-03-23  20:33:36  \"CNR1937316\"            Completed  \"CID7955264\"   \n",
            "149984  2024-01-14  15:42:15  \"CNR2761999\"           Incomplete  \"CID3743304\"   \n",
            "149985  2024-02-26  16:45:21  \"CNR2991975\"            Completed  \"CID2480001\"   \n",
            "149986  2024-03-15  17:49:46  \"CNR5247039\"            Completed  \"CID6218492\"   \n",
            "149987  2024-02-06  19:51:00  \"CNR1535042\"            Completed  \"CID8787495\"   \n",
            "149988  2024-08-17  10:43:13  \"CNR5410567\"            Completed  \"CID6192221\"   \n",
            "149989  2024-07-22  10:04:18  \"CNR2531850\"            Completed  \"CID7189367\"   \n",
            "149990  2024-09-26  12:31:22  \"CNR3212810\"  Cancelled by Driver  \"CID6199171\"   \n",
            "149991  2024-07-13  14:47:30  \"CNR5591053\"            Completed  \"CID1829616\"   \n",
            "149992  2024-01-24  18:02:28  \"CNR1717894\"      No Driver Found  \"CID9564749\"   \n",
            "149993  2024-05-03  11:18:17  \"CNR9715958\"            Completed  \"CID8835432\"   \n",
            "149994  2024-06-14  16:46:53  \"CNR9572383\"            Completed  \"CID2952237\"   \n",
            "149995  2024-11-11  19:34:01  \"CNR6500631\"            Completed  \"CID4337371\"   \n",
            "149996  2024-11-24  15:55:09  \"CNR2468611\"            Completed  \"CID2325623\"   \n",
            "149997  2024-09-18  10:55:15  \"CNR6358306\"            Completed  \"CID9925486\"   \n",
            "149998  2024-10-05  07:53:34  \"CNR3030099\"            Completed  \"CID9415487\"   \n",
            "149999  2024-03-10  15:38:03  \"CNR3447390\"            Completed  \"CID4108667\"   \n",
            "\n",
            "         Vehicle Type          Pickup Location      Drop Location  Avg VTAT  \\\n",
            "149980  Premier Sedan              Kirti Nagar     Sarojini Nagar       NaN   \n",
            "149981       Go Sedan         Botanical Garden        IFFCO Chowk       5.8   \n",
            "149982           Auto              Sikanderpur        Old Gurgaon       NaN   \n",
            "149983        Go Mini  Gurgaon Railway Station            Azadpur       3.0   \n",
            "149984       Go Sedan                  Azadpur       Lajpat Nagar       5.9   \n",
            "149985           Bike                    AIIMS          Paharganj      13.4   \n",
            "149986  Premier Sedan              Preet Vihar   Anand Vihar ISBT      12.9   \n",
            "149987        Go Mini              Sushant Lok        Jama Masjid       2.3   \n",
            "149988           Bike             Udyog Bhawan          Lal Quila      13.4   \n",
            "149989           Auto                 Shahdara    Panchsheel Park      14.2   \n",
            "149990           Auto       Kashmere Gate ISBT          GTB Nagar      10.7   \n",
            "149991           Auto               Karol Bagh    Vishwavidyalaya      11.2   \n",
            "149992        Go Mini              Nehru Place          Aya Nagar       NaN   \n",
            "149993        Go Mini              Tughlakabad        Jama Masjid      13.2   \n",
            "149994        Go Mini               Akshardham      Greater Noida       8.2   \n",
            "149995        Go Mini                  MG Road           Ghitorni      10.2   \n",
            "149996        Go Mini         Golf Course Road         Akshardham       5.1   \n",
            "149997       Go Sedan   Satguru Ram Singh Marg           Jor Bagh       2.7   \n",
            "149998           Auto                Ghaziabad         Saidulajab       6.9   \n",
            "149999  Premier Sedan          Ashok Park Main  Gurgaon Sector 29       3.5   \n",
            "\n",
            "        Avg CTAT  ...  Reason for cancelling by Customer  \\\n",
            "149980       NaN  ...                                NaN   \n",
            "149981      18.5  ...                                NaN   \n",
            "149982       NaN  ...                                NaN   \n",
            "149983      27.5  ...                                NaN   \n",
            "149984      12.8  ...                                NaN   \n",
            "149985      27.0  ...                                NaN   \n",
            "149986      43.9  ...                                NaN   \n",
            "149987      19.9  ...                                NaN   \n",
            "149988      26.6  ...                                NaN   \n",
            "149989      22.8  ...                                NaN   \n",
            "149990       NaN  ...                                NaN   \n",
            "149991      30.8  ...                                NaN   \n",
            "149992       NaN  ...                                NaN   \n",
            "149993      20.1  ...                                NaN   \n",
            "149994      30.6  ...                                NaN   \n",
            "149995      44.4  ...                                NaN   \n",
            "149996      30.8  ...                                NaN   \n",
            "149997      23.4  ...                                NaN   \n",
            "149998      39.6  ...                                NaN   \n",
            "149999      33.7  ...                                NaN   \n",
            "\n",
            "       Cancelled Rides by Driver     Driver Cancellation Reason  \\\n",
            "149980                       NaN                            NaN   \n",
            "149981                       NaN                            NaN   \n",
            "149982                       NaN                            NaN   \n",
            "149983                       NaN                            NaN   \n",
            "149984                       NaN                            NaN   \n",
            "149985                       NaN                            NaN   \n",
            "149986                       NaN                            NaN   \n",
            "149987                       NaN                            NaN   \n",
            "149988                       NaN                            NaN   \n",
            "149989                       NaN                            NaN   \n",
            "149990                       1.0  Personal & Car related issues   \n",
            "149991                       NaN                            NaN   \n",
            "149992                       NaN                            NaN   \n",
            "149993                       NaN                            NaN   \n",
            "149994                       NaN                            NaN   \n",
            "149995                       NaN                            NaN   \n",
            "149996                       NaN                            NaN   \n",
            "149997                       NaN                            NaN   \n",
            "149998                       NaN                            NaN   \n",
            "149999                       NaN                            NaN   \n",
            "\n",
            "       Incomplete Rides  Incomplete Rides Reason Booking Value  Ride Distance  \\\n",
            "149980              NaN                      NaN           NaN            NaN   \n",
            "149981              NaN                      NaN          91.0          43.43   \n",
            "149982              NaN                      NaN           NaN            NaN   \n",
            "149983              NaN                      NaN         581.0          25.10   \n",
            "149984              1.0          Customer Demand        1146.0          13.96   \n",
            "149985              NaN                      NaN         193.0          13.29   \n",
            "149986              NaN                      NaN         289.0          44.00   \n",
            "149987              NaN                      NaN         101.0          10.69   \n",
            "149988              NaN                      NaN          96.0          27.72   \n",
            "149989              NaN                      NaN          75.0           8.33   \n",
            "149990              NaN                      NaN           NaN            NaN   \n",
            "149991              NaN                      NaN         597.0          27.91   \n",
            "149992              NaN                      NaN           NaN            NaN   \n",
            "149993              NaN                      NaN         280.0          29.89   \n",
            "149994              NaN                      NaN         388.0          10.51   \n",
            "149995              NaN                      NaN         475.0          40.08   \n",
            "149996              NaN                      NaN        1093.0          21.31   \n",
            "149997              NaN                      NaN         852.0          15.93   \n",
            "149998              NaN                      NaN         333.0          45.54   \n",
            "149999              NaN                      NaN         806.0          21.19   \n",
            "\n",
            "        Driver Ratings  Customer Rating  Payment Method  \n",
            "149980             NaN              NaN             NaN  \n",
            "149981             4.9              4.1             UPI  \n",
            "149982             NaN              NaN             NaN  \n",
            "149983             4.3              5.0     Credit Card  \n",
            "149984             NaN              NaN            Cash  \n",
            "149985             4.2              4.6      Debit Card  \n",
            "149986             4.3              5.0            Cash  \n",
            "149987             4.2              4.5             UPI  \n",
            "149988             4.3              4.2             UPI  \n",
            "149989             4.2              4.9     Credit Card  \n",
            "149990             NaN              NaN             NaN  \n",
            "149991             4.2              4.3             UPI  \n",
            "149992             NaN              NaN             NaN  \n",
            "149993             4.1              4.7            Cash  \n",
            "149994             4.3              4.9             UPI  \n",
            "149995             3.7              4.1     Uber Wallet  \n",
            "149996             4.8              5.0             UPI  \n",
            "149997             3.9              4.4            Cash  \n",
            "149998             4.1              3.7             UPI  \n",
            "149999             4.6              4.9     Credit Card  \n",
            "\n",
            "[20 rows x 21 columns]>\n"
          ]
        }
      ]
    },
    {
      "cell_type": "code",
      "source": [
        "print(df.info())"
      ],
      "metadata": {
        "colab": {
          "base_uri": "https://localhost:8080/"
        },
        "id": "hL9IpkDNV3eE",
        "outputId": "e67587b6-c2b9-46d8-fea1-f5cbe9ccc5fa"
      },
      "execution_count": null,
      "outputs": [
        {
          "output_type": "stream",
          "name": "stdout",
          "text": [
            "<class 'pandas.core.frame.DataFrame'>\n",
            "RangeIndex: 150000 entries, 0 to 149999\n",
            "Data columns (total 21 columns):\n",
            " #   Column                             Non-Null Count   Dtype  \n",
            "---  ------                             --------------   -----  \n",
            " 0   Date                               150000 non-null  object \n",
            " 1   Time                               150000 non-null  object \n",
            " 2   Booking ID                         150000 non-null  object \n",
            " 3   Booking Status                     150000 non-null  object \n",
            " 4   Customer ID                        150000 non-null  object \n",
            " 5   Vehicle Type                       150000 non-null  object \n",
            " 6   Pickup Location                    150000 non-null  object \n",
            " 7   Drop Location                      150000 non-null  object \n",
            " 8   Avg VTAT                           139500 non-null  float64\n",
            " 9   Avg CTAT                           102000 non-null  float64\n",
            " 10  Cancelled Rides by Customer        10500 non-null   float64\n",
            " 11  Reason for cancelling by Customer  10500 non-null   object \n",
            " 12  Cancelled Rides by Driver          27000 non-null   float64\n",
            " 13  Driver Cancellation Reason         27000 non-null   object \n",
            " 14  Incomplete Rides                   9000 non-null    float64\n",
            " 15  Incomplete Rides Reason            9000 non-null    object \n",
            " 16  Booking Value                      102000 non-null  float64\n",
            " 17  Ride Distance                      102000 non-null  float64\n",
            " 18  Driver Ratings                     93000 non-null   float64\n",
            " 19  Customer Rating                    93000 non-null   float64\n",
            " 20  Payment Method                     102000 non-null  object \n",
            "dtypes: float64(9), object(12)\n",
            "memory usage: 24.0+ MB\n",
            "None\n"
          ]
        }
      ]
    },
    {
      "cell_type": "code",
      "source": [],
      "metadata": {
        "id": "P_wjx2KzWCBN"
      },
      "execution_count": null,
      "outputs": []
    },
    {
      "cell_type": "code",
      "source": [
        "print(new)"
      ],
      "metadata": {
        "colab": {
          "base_uri": "https://localhost:8080/",
          "height": 141
        },
        "id": "JFi-mH8XWb8E",
        "outputId": "2727737c-94b5-4d93-9d5d-e3672baf8e64"
      },
      "execution_count": null,
      "outputs": [
        {
          "output_type": "error",
          "ename": "NameError",
          "evalue": "name 'new' is not defined",
          "traceback": [
            "\u001b[0;31m---------------------------------------------------------------------------\u001b[0m",
            "\u001b[0;31mNameError\u001b[0m                                 Traceback (most recent call last)",
            "\u001b[0;32m/tmp/ipython-input-3693569982.py\u001b[0m in \u001b[0;36m<cell line: 0>\u001b[0;34m()\u001b[0m\n\u001b[0;32m----> 1\u001b[0;31m \u001b[0mprint\u001b[0m\u001b[0;34m(\u001b[0m\u001b[0mnew\u001b[0m\u001b[0;34m)\u001b[0m\u001b[0;34m\u001b[0m\u001b[0;34m\u001b[0m\u001b[0m\n\u001b[0m",
            "\u001b[0;31mNameError\u001b[0m: name 'new' is not defined"
          ]
        }
      ]
    },
    {
      "cell_type": "code",
      "source": [
        "df.drop_duplicates(inplace=True)"
      ],
      "metadata": {
        "id": "Y-ybXRjaWlaF"
      },
      "execution_count": null,
      "outputs": []
    },
    {
      "cell_type": "code",
      "source": [
        "print(df)"
      ],
      "metadata": {
        "colab": {
          "base_uri": "https://localhost:8080/"
        },
        "id": "C0UHUVVPXc02",
        "outputId": "6920b417-5d3e-45d3-fb08-db3b9ae7dad3"
      },
      "execution_count": null,
      "outputs": [
        {
          "output_type": "stream",
          "name": "stdout",
          "text": [
            "              Date      Time    Booking ID   Booking Status   Customer ID  \\\n",
            "0       2024-03-23  12:29:38  \"CNR5884300\"  No Driver Found  \"CID1982111\"   \n",
            "1       2024-11-29  18:01:39  \"CNR1326809\"       Incomplete  \"CID4604802\"   \n",
            "2       2024-08-23  08:56:10  \"CNR8494506\"        Completed  \"CID9202816\"   \n",
            "3       2024-10-21  17:17:25  \"CNR8906825\"        Completed  \"CID2610914\"   \n",
            "4       2024-09-16  22:08:00  \"CNR1950162\"        Completed  \"CID9933542\"   \n",
            "...            ...       ...           ...              ...           ...   \n",
            "149995  2024-11-11  19:34:01  \"CNR6500631\"        Completed  \"CID4337371\"   \n",
            "149996  2024-11-24  15:55:09  \"CNR2468611\"        Completed  \"CID2325623\"   \n",
            "149997  2024-09-18  10:55:15  \"CNR6358306\"        Completed  \"CID9925486\"   \n",
            "149998  2024-10-05  07:53:34  \"CNR3030099\"        Completed  \"CID9415487\"   \n",
            "149999  2024-03-10  15:38:03  \"CNR3447390\"        Completed  \"CID4108667\"   \n",
            "\n",
            "         Vehicle Type         Pickup Location      Drop Location  Avg VTAT  \\\n",
            "0               eBike             Palam Vihar            Jhilmil       NaN   \n",
            "1            Go Sedan           Shastri Nagar  Gurgaon Sector 56       4.9   \n",
            "2                Auto                 Khandsa      Malviya Nagar      13.4   \n",
            "3       Premier Sedan     Central Secretariat           Inderlok      13.1   \n",
            "4                Bike        Ghitorni Village        Khan Market       5.3   \n",
            "...               ...                     ...                ...       ...   \n",
            "149995        Go Mini                 MG Road           Ghitorni      10.2   \n",
            "149996        Go Mini        Golf Course Road         Akshardham       5.1   \n",
            "149997       Go Sedan  Satguru Ram Singh Marg           Jor Bagh       2.7   \n",
            "149998           Auto               Ghaziabad         Saidulajab       6.9   \n",
            "149999  Premier Sedan         Ashok Park Main  Gurgaon Sector 29       3.5   \n",
            "\n",
            "        Avg CTAT  ...  Reason for cancelling by Customer  \\\n",
            "0            NaN  ...                                NaN   \n",
            "1           14.0  ...                                NaN   \n",
            "2           25.8  ...                                NaN   \n",
            "3           28.5  ...                                NaN   \n",
            "4           19.6  ...                                NaN   \n",
            "...          ...  ...                                ...   \n",
            "149995      44.4  ...                                NaN   \n",
            "149996      30.8  ...                                NaN   \n",
            "149997      23.4  ...                                NaN   \n",
            "149998      39.6  ...                                NaN   \n",
            "149999      33.7  ...                                NaN   \n",
            "\n",
            "       Cancelled Rides by Driver  Driver Cancellation Reason Incomplete Rides  \\\n",
            "0                            NaN                         NaN              NaN   \n",
            "1                            NaN                         NaN              1.0   \n",
            "2                            NaN                         NaN              NaN   \n",
            "3                            NaN                         NaN              NaN   \n",
            "4                            NaN                         NaN              NaN   \n",
            "...                          ...                         ...              ...   \n",
            "149995                       NaN                         NaN              NaN   \n",
            "149996                       NaN                         NaN              NaN   \n",
            "149997                       NaN                         NaN              NaN   \n",
            "149998                       NaN                         NaN              NaN   \n",
            "149999                       NaN                         NaN              NaN   \n",
            "\n",
            "        Incomplete Rides Reason Booking Value  Ride Distance  Driver Ratings  \\\n",
            "0                           NaN           NaN            NaN             NaN   \n",
            "1             Vehicle Breakdown         237.0           5.73             NaN   \n",
            "2                           NaN         627.0          13.58             4.9   \n",
            "3                           NaN         416.0          34.02             4.6   \n",
            "4                           NaN         737.0          48.21             4.1   \n",
            "...                         ...           ...            ...             ...   \n",
            "149995                      NaN         475.0          40.08             3.7   \n",
            "149996                      NaN        1093.0          21.31             4.8   \n",
            "149997                      NaN         852.0          15.93             3.9   \n",
            "149998                      NaN         333.0          45.54             4.1   \n",
            "149999                      NaN         806.0          21.19             4.6   \n",
            "\n",
            "        Customer Rating  Payment Method  \n",
            "0                   NaN             NaN  \n",
            "1                   NaN             UPI  \n",
            "2                   4.9      Debit Card  \n",
            "3                   5.0             UPI  \n",
            "4                   4.3             UPI  \n",
            "...                 ...             ...  \n",
            "149995              4.1     Uber Wallet  \n",
            "149996              5.0             UPI  \n",
            "149997              4.4            Cash  \n",
            "149998              3.7             UPI  \n",
            "149999              4.9     Credit Card  \n",
            "\n",
            "[150000 rows x 21 columns]\n"
          ]
        }
      ]
    },
    {
      "cell_type": "markdown",
      "source": [
        "Matplotlib"
      ],
      "metadata": {
        "id": "aEr5qyw_ZE14"
      }
    },
    {
      "cell_type": "code",
      "source": [
        "import matplotlib.pyplot as plt"
      ],
      "metadata": {
        "id": "yWfiIC8cXgeT"
      },
      "execution_count": null,
      "outputs": []
    },
    {
      "cell_type": "code",
      "source": [
        "df.plot()\n",
        "plt.show()"
      ],
      "metadata": {
        "colab": {
          "base_uri": "https://localhost:8080/",
          "height": 430
        },
        "id": "o_gspVTzXoTh",
        "outputId": "cc35c392-02eb-4d8e-8c20-1a74eaf48fea"
      },
      "execution_count": null,
      "outputs": [
        {
          "output_type": "display_data",
          "data": {
            "text/plain": [
              "<Figure size 640x480 with 1 Axes>"
            ],
            "image/png": "[encoded data removed]"
          },
          "metadata": {}
        }
      ]
    },
    {
      "cell_type": "code",
      "source": [
        "df.plot(kind = 'scatter', x = 'Avg VTAT', y = 'Avg CTAT')\n",
        "plt.show()"
      ],
      "metadata": {
        "colab": {
          "base_uri": "https://localhost:8080/",
          "height": 449
        },
        "id": "AoG0POeIZvq8",
        "outputId": "abe28946-84fe-46d9-a217-f2fe9dc48296"
      },
      "execution_count": null,
      "outputs": [
        {
          "output_type": "display_data",
          "data": {
            "text/plain": [
              "<Figure size 640x480 with 1 Axes>"
            ],
            "image/png": "[encoded data removed]"
          },
          "metadata": {}
        }
      ]
    },
    {
      "cell_type": "code",
      "source": [
        "df.plot( x = 'Avg VTAT', y = 'Avg CTAT')"
      ],
      "metadata": {
        "colab": {
          "base_uri": "https://localhost:8080/",
          "height": 466
        },
        "id": "NzjX8U4HaT7A",
        "outputId": "a03f5fb7-3c81-4325-cd84-49f80462ed40"
      },
      "execution_count": null,
      "outputs": [
        {
          "output_type": "execute_result",
          "data": {
            "text/plain": [
              "<Axes: xlabel='Avg VTAT'>"
            ]
          },
          "metadata": {},
          "execution_count": 35
        },
        {
          "output_type": "display_data",
          "data": {
            "text/plain": [
              "<Figure size 640x480 with 1 Axes>"
            ],
            "image/png": "[encoded data removed]"
          },
          "metadata": {}
        }
      ]
    },
    {
      "cell_type": "code",
      "source": [
        "#data frame\n",
        "data = {\n",
        "  \"calories\": [420, 380, 390],\n",
        "  \"duration\": [50, 40, 45]\n",
        "}\n",
        "\n",
        "var = pd.DataFrame(data, index = [\"day1\", \"day2\", \"day3\"])\n",
        "\n",
        "\n",
        "var\n"
      ],
      "metadata": {
        "colab": {
          "base_uri": "https://localhost:8080/",
          "height": 143
        },
        "id": "xk0mR83ucJXD",
        "outputId": "e4c0581c-b88f-47d7-afdb-34692ba6049c"
      },
      "execution_count": null,
      "outputs": [
        {
          "output_type": "execute_result",
          "data": {
            "text/plain": [
              "      calories  duration\n",
              "day1       420        50\n",
              "day2       380        40\n",
              "day3       390        45"
            ],
            "text/html": [
              "\n",
              "  <div id=\"df-6a1ecfc6-446d-4c94-890f-1a12b9209cd9\" class=\"colab-df-container\">\n",
              "    <div>\n",
              "<style scoped>\n",
              "    .dataframe tbody tr th:only-of-type {\n",
              "        vertical-align: middle;\n",
              "    }\n",
              "\n",
              "    .dataframe tbody tr th {\n",
              "        vertical-align: top;\n",
              "    }\n",
              "\n",
              "    .dataframe thead th {\n",
              "        text-align: right;\n",
              "    }\n",
              "</style>\n",
              "<table border=\"1\" class=\"dataframe\">\n",
              "  <thead>\n",
              "    <tr style=\"text-align: right;\">\n",
              "      <th></th>\n",
              "      <th>calories</th>\n",
              "      <th>duration</th>\n",
              "    </tr>\n",
              "  </thead>\n",
              "  <tbody>\n",
              "    <tr>\n",
              "      <th>day1</th>\n",
              "      <td>420</td>\n",
              "      <td>50</td>\n",
              "    </tr>\n",
              "    <tr>\n",
              "      <th>day2</th>\n",
              "      <td>380</td>\n",
              "      <td>40</td>\n",
              "    </tr>\n",
              "    <tr>\n",
              "      <th>day3</th>\n",
              "      <td>390</td>\n",
              "      <td>45</td>\n",
              "    </tr>\n",
              "  </tbody>\n",
              "</table>\n",
              "</div>\n",
              "    <div class=\"colab-df-buttons\">\n",
              "\n",
              "  <div class=\"colab-df-container\">\n",
              "    <button class=\"colab-df-convert\" onclick=\"convertToInteractive('df-6a1ecfc6-446d-4c94-890f-1a12b9209cd9')\"\n",
              "            title=\"Convert this dataframe to an interactive table.\"\n",
              "            style=\"display:none;\">\n",
              "\n",
              "  <svg xmlns=\"http://www.w3.org/2000/svg\" height=\"24px\" viewBox=\"0 -960 960 960\">\n",
              "    <path d=\"M120-120v-720h720v720H120Zm60-500h600v-160H180v160Zm220 220h160v-160H400v160Zm0 220h160v-160H400v160ZM180-400h160v-160H180v160Zm440 0h160v-160H620v160ZM180-180h160v-160H180v160Zm440 0h160v-160H620v160Z\"/>\n",
              "  </svg>\n",
              "    </button>\n",
              "\n",
              "  <style>\n",
              "    .colab-df-container {\n",
              "      display:flex;\n",
              "      gap: 12px;\n",
              "    }\n",
              "\n",
              "    .colab-df-convert {\n",
              "      background-color: #E8F0FE;\n",
              "      border: none;\n",
              "      border-radius: 50%;\n",
              "      cursor: pointer;\n",
              "      display: none;\n",
              "      fill: #1967D2;\n",
              "      height: 32px;\n",
              "      padding: 0 0 0 0;\n",
              "      width: 32px;\n",
              "    }\n",
              "\n",
              "    .colab-df-convert:hover {\n",
              "      background-color: #E2EBFA;\n",
              "      box-shadow: 0px 1px 2px rgba(60, 64, 67, 0.3), 0px 1px 3px 1px rgba(60, 64, 67, 0.15);\n",
              "      fill: #174EA6;\n",
              "    }\n",
              "\n",
              "    .colab-df-buttons div {\n",
              "      margin-bottom: 4px;\n",
              "    }\n",
              "\n",
              "    [theme=dark] .colab-df-convert {\n",
              "      background-color: #3B4455;\n",
              "      fill: #D2E3FC;\n",
              "    }\n",
              "\n",
              "    [theme=dark] .colab-df-convert:hover {\n",
              "      background-color: #434B5C;\n",
              "      box-shadow: 0px 1px 3px 1px rgba(0, 0, 0, 0.15);\n",
              "      filter: drop-shadow(0px 1px 2px rgba(0, 0, 0, 0.3));\n",
              "      fill: #FFFFFF;\n",
              "    }\n",
              "  </style>\n",
              "\n",
              "    <script>\n",
              "      const buttonEl =\n",
              "        document.querySelector('#df-6a1ecfc6-446d-4c94-890f-1a12b9209cd9 button.colab-df-convert');\n",
              "      buttonEl.style.display =\n",
              "        google.colab.kernel.accessAllowed ? 'block' : 'none';\n",
              "\n",
              "      async function convertToInteractive(key) {\n",
              "        const element = document.querySelector('#df-6a1ecfc6-446d-4c94-890f-1a12b9209cd9');\n",
              "        const dataTable =\n",
              "          await google.colab.kernel.invokeFunction('convertToInteractive',\n",
              "                                                    [key], {});\n",
              "        if (!dataTable) return;\n",
              "\n",
              "        const docLinkHtml = 'Like what you see? Visit the ' +\n",
              "          '<a target=\"_blank\" href=https://colab.research.google.com/notebooks/data_table.ipynb>data table notebook</a>'\n",
              "          + ' to learn more about interactive tables.';\n",
              "        element.innerHTML = '';\n",
              "        dataTable['output_type'] = 'display_data';\n",
              "        await google.colab.output.renderOutput(dataTable, element);\n",
              "        const docLink = document.createElement('div');\n",
              "        docLink.innerHTML = docLinkHtml;\n",
              "        element.appendChild(docLink);\n",
              "      }\n",
              "    </script>\n",
              "  </div>\n",
              "\n",
              "\n",
              "    <div id=\"df-98eb1f99-44b4-4a00-a854-4c8fb45a75b1\">\n",
              "      <button class=\"colab-df-quickchart\" onclick=\"quickchart('df-98eb1f99-44b4-4a00-a854-4c8fb45a75b1')\"\n",
              "                title=\"Suggest charts\"\n",
              "                style=\"display:none;\">\n",
              "\n",
              "<svg xmlns=\"http://www.w3.org/2000/svg\" height=\"24px\"viewBox=\"0 0 24 24\"\n",
              "     width=\"24px\">\n",
              "    <g>\n",
              "        <path d=\"M19 3H5c-1.1 0-2 .9-2 2v14c0 1.1.9 2 2 2h14c1.1 0 2-.9 2-2V5c0-1.1-.9-2-2-2zM9 17H7v-7h2v7zm4 0h-2V7h2v10zm4 0h-2v-4h2v4z\"/>\n",
              "    </g>\n",
              "</svg>\n",
              "      </button>\n",
              "\n",
              "<style>\n",
              "  .colab-df-quickchart {\n",
              "      --bg-color: #E8F0FE;\n",
              "      --fill-color: #1967D2;\n",
              "      --hover-bg-color: #E2EBFA;\n",
              "      --hover-fill-color: #174EA6;\n",
              "      --disabled-fill-color: #AAA;\n",
              "      --disabled-bg-color: #DDD;\n",
              "  }\n",
              "\n",
              "  [theme=dark] .colab-df-quickchart {\n",
              "      --bg-color: #3B4455;\n",
              "      --fill-color: #D2E3FC;\n",
              "      --hover-bg-color: #434B5C;\n",
              "      --hover-fill-color: #FFFFFF;\n",
              "      --disabled-bg-color: #3B4455;\n",
              "      --disabled-fill-color: #666;\n",
              "  }\n",
              "\n",
              "  .colab-df-quickchart {\n",
              "    background-color: var(--bg-color);\n",
              "    border: none;\n",
              "    border-radius: 50%;\n",
              "    cursor: pointer;\n",
              "    display: none;\n",
              "    fill: var(--fill-color);\n",
              "    height: 32px;\n",
              "    padding: 0;\n",
              "    width: 32px;\n",
              "  }\n",
              "\n",
              "  .colab-df-quickchart:hover {\n",
              "    background-color: var(--hover-bg-color);\n",
              "    box-shadow: 0 1px 2px rgba(60, 64, 67, 0.3), 0 1px 3px 1px rgba(60, 64, 67, 0.15);\n",
              "    fill: var(--button-hover-fill-color);\n",
              "  }\n",
              "\n",
              "  .colab-df-quickchart-complete:disabled,\n",
              "  .colab-df-quickchart-complete:disabled:hover {\n",
              "    background-color: var(--disabled-bg-color);\n",
              "    fill: var(--disabled-fill-color);\n",
              "    box-shadow: none;\n",
              "  }\n",
              "\n",
              "  .colab-df-spinner {\n",
              "    border: 2px solid var(--fill-color);\n",
              "    border-color: transparent;\n",
              "    border-bottom-color: var(--fill-color);\n",
              "    animation:\n",
              "      spin 1s steps(1) infinite;\n",
              "  }\n",
              "\n",
              "  @keyframes spin {\n",
              "    0% {\n",
              "      border-color: transparent;\n",
              "      border-bottom-color: var(--fill-color);\n",
              "      border-left-color: var(--fill-color);\n",
              "    }\n",
              "    20% {\n",
              "      border-color: transparent;\n",
              "      border-left-color: var(--fill-color);\n",
              "      border-top-color: var(--fill-color);\n",
              "    }\n",
              "    30% {\n",
              "      border-color: transparent;\n",
              "      border-left-color: var(--fill-color);\n",
              "      border-top-color: var(--fill-color);\n",
              "      border-right-color: var(--fill-color);\n",
              "    }\n",
              "    40% {\n",
              "      border-color: transparent;\n",
              "      border-right-color: var(--fill-color);\n",
              "      border-top-color: var(--fill-color);\n",
              "    }\n",
              "    60% {\n",
              "      border-color: transparent;\n",
              "      border-right-color: var(--fill-color);\n",
              "    }\n",
              "    80% {\n",
              "      border-color: transparent;\n",
              "      border-right-color: var(--fill-color);\n",
              "      border-bottom-color: var(--fill-color);\n",
              "    }\n",
              "    90% {\n",
              "      border-color: transparent;\n",
              "      border-bottom-color: var(--fill-color);\n",
              "    }\n",
              "  }\n",
              "</style>\n",
              "\n",
              "      <script>\n",
              "        async function quickchart(key) {\n",
              "          const quickchartButtonEl =\n",
              "            document.querySelector('#' + key + ' button');\n",
              "          quickchartButtonEl.disabled = true;  // To prevent multiple clicks.\n",
              "          quickchartButtonEl.classList.add('colab-df-spinner');\n",
              "          try {\n",
              "            const charts = await google.colab.kernel.invokeFunction(\n",
              "                'suggestCharts', [key], {});\n",
              "          } catch (error) {\n",
              "            console.error('Error during call to suggestCharts:', error);\n",
              "          }\n",
              "          quickchartButtonEl.classList.remove('colab-df-spinner');\n",
              "          quickchartButtonEl.classList.add('colab-df-quickchart-complete');\n",
              "        }\n",
              "        (() => {\n",
              "          let quickchartButtonEl =\n",
              "            document.querySelector('#df-98eb1f99-44b4-4a00-a854-4c8fb45a75b1 button');\n",
              "          quickchartButtonEl.style.display =\n",
              "            google.colab.kernel.accessAllowed ? 'block' : 'none';\n",
              "        })();\n",
              "      </script>\n",
              "    </div>\n",
              "\n",
              "  <div id=\"id_0192da80-9a13-4c96-a5ff-27f535471de3\">\n",
              "    <style>\n",
              "      .colab-df-generate {\n",
              "        background-color: #E8F0FE;\n",
              "        border: none;\n",
              "        border-radius: 50%;\n",
              "        cursor: pointer;\n",
              "        display: none;\n",
              "        fill: #1967D2;\n",
              "        height: 32px;\n",
              "        padding: 0 0 0 0;\n",
              "        width: 32px;\n",
              "      }\n",
              "\n",
              "      .colab-df-generate:hover {\n",
              "        background-color: #E2EBFA;\n",
              "        box-shadow: 0px 1px 2px rgba(60, 64, 67, 0.3), 0px 1px 3px 1px rgba(60, 64, 67, 0.15);\n",
              "        fill: #174EA6;\n",
              "      }\n",
              "\n",
              "      [theme=dark] .colab-df-generate {\n",
              "        background-color: #3B4455;\n",
              "        fill: #D2E3FC;\n",
              "      }\n",
              "\n",
              "      [theme=dark] .colab-df-generate:hover {\n",
              "        background-color: #434B5C;\n",
              "        box-shadow: 0px 1px 3px 1px rgba(0, 0, 0, 0.15);\n",
              "        filter: drop-shadow(0px 1px 2px rgba(0, 0, 0, 0.3));\n",
              "        fill: #FFFFFF;\n",
              "      }\n",
              "    </style>\n",
              "    <button class=\"colab-df-generate\" onclick=\"generateWithVariable('var')\"\n",
              "            title=\"Generate code using this dataframe.\"\n",
              "            style=\"display:none;\">\n",
              "\n",
              "  <svg xmlns=\"http://www.w3.org/2000/svg\" height=\"24px\"viewBox=\"0 0 24 24\"\n",
              "       width=\"24px\">\n",
              "    <path d=\"M7,19H8.4L18.45,9,17,7.55,7,17.6ZM5,21V16.75L18.45,3.32a2,2,0,0,1,2.83,0l1.4,1.43a1.91,1.91,0,0,1,.58,1.4,1.91,1.91,0,0,1-.58,1.4L9.25,21ZM18.45,9,17,7.55Zm-12,3A5.31,5.31,0,0,0,4.9,8.1,5.31,5.31,0,0,0,1,6.5,5.31,5.31,0,0,0,4.9,4.9,5.31,5.31,0,0,0,6.5,1,5.31,5.31,0,0,0,8.1,4.9,5.31,5.31,0,0,0,12,6.5,5.46,5.46,0,0,0,6.5,12Z\"/>\n",
              "  </svg>\n",
              "    </button>\n",
              "    <script>\n",
              "      (() => {\n",
              "      const buttonEl =\n",
              "        document.querySelector('#id_0192da80-9a13-4c96-a5ff-27f535471de3 button.colab-df-generate');\n",
              "      buttonEl.style.display =\n",
              "        google.colab.kernel.accessAllowed ? 'block' : 'none';\n",
              "\n",
              "      buttonEl.onclick = () => {\n",
              "        google.colab.notebook.generateWithVariable('var');\n",
              "      }\n",
              "      })();\n",
              "    </script>\n",
              "  </div>\n",
              "\n",
              "    </div>\n",
              "  </div>\n"
            ],
            "application/vnd.google.colaboratory.intrinsic+json": {
              "type": "dataframe",
              "variable_name": "var",
              "summary": "{\n  \"name\": \"var\",\n  \"rows\": 3,\n  \"fields\": [\n    {\n      \"column\": \"calories\",\n      \"properties\": {\n        \"dtype\": \"number\",\n        \"std\": 20,\n        \"min\": 380,\n        \"max\": 420,\n        \"num_unique_values\": 3,\n        \"samples\": [\n          420,\n          380,\n          390\n        ],\n        \"semantic_type\": \"\",\n        \"description\": \"\"\n      }\n    },\n    {\n      \"column\": \"duration\",\n      \"properties\": {\n        \"dtype\": \"number\",\n        \"std\": 5,\n        \"min\": 40,\n        \"max\": 50,\n        \"num_unique_values\": 3,\n        \"samples\": [\n          50,\n          40,\n          45\n        ],\n        \"semantic_type\": \"\",\n        \"description\": \"\"\n      }\n    }\n  ]\n}"
            }
          },
          "metadata": {},
          "execution_count": 36
        }
      ]
    },
    {
      "cell_type": "code",
      "source": [
        "var.plot(kind = 'scatter', x = 'calories', y = 'duration')\n",
        "plt.show()"
      ],
      "metadata": {
        "colab": {
          "base_uri": "https://localhost:8080/",
          "height": 449
        },
        "id": "yLQTjKfIcgKu",
        "outputId": "1d7a061f-8aa5-46e4-9bef-fd5e4351ace4"
      },
      "execution_count": null,
      "outputs": [
        {
          "output_type": "display_data",
          "data": {
            "text/plain": [
              "<Figure size 640x480 with 1 Axes>"
            ],
            "image/png": "[encoded data removed]"
          },
          "metadata": {}
        }
      ]
    },
    {
      "cell_type": "code",
      "source": [
        "var.plot(kind = 'bar', x = 'calories', y = 'duration')\n",
        "plt.show()"
      ],
      "metadata": {
        "colab": {
          "base_uri": "https://localhost:8080/",
          "height": 462
        },
        "id": "rQYMYmnlcnvU",
        "outputId": "ebd41d8a-b1a3-431e-d082-2d46ea103066"
      },
      "execution_count": null,
      "outputs": [
        {
          "output_type": "display_data",
          "data": {
            "text/plain": [
              "<Figure size 640x480 with 1 Axes>"
            ],
            "image/png": "[encoded data removed]"
          },
          "metadata": {}
        }
      ]
    },
    {
      "cell_type": "code",
      "source": [
        "x = [1,2,3,4,5]\n",
        "y1 = [1,4,9,16,25]\n",
        "y2 = [25,20,15,10,5]\n",
        "plt.subplot(1,2,1) # 1 row, 2 cols, first graph\n",
        "plt.plot(x,y1)\n",
        "plt.title(\"Squares\")\n",
        "plt.subplot(1,2,2) # second graph\n",
        "plt.plot(x,y2)\n",
        "plt.title(\"Descending\")\n",
        "plt.show()"
      ],
      "metadata": {
        "colab": {
          "base_uri": "https://localhost:8080/",
          "height": 452
        },
        "id": "mYyUaWqOcvuC",
        "outputId": "cf68689c-e2e4-4c7b-ac5c-fc7c0d9d4eb7"
      },
      "execution_count": null,
      "outputs": [
        {
          "output_type": "display_data",
          "data": {
            "text/plain": [
              "<Figure size 640x480 with 2 Axes>"
            ],
            "image/png": "[encoded data removed]"
          },
          "metadata": {}
        }
      ]
    },
    {
      "cell_type": "code",
      "source": [
        "# Histogram\n",
        "import numpy as np\n",
        "data = np.random.randn(1000)\n",
        "plt.hist(data, bins=30, color='skyblue')\n",
        "plt.show()"
      ],
      "metadata": {
        "colab": {
          "base_uri": "https://localhost:8080/",
          "height": 430
        },
        "id": "0LSCeXhPc_Bf",
        "outputId": "86d2459c-570e-4aaf-cabd-3c99901d950a"
      },
      "execution_count": null,
      "outputs": [
        {
          "output_type": "display_data",
          "data": {
            "text/plain": [
              "<Figure size 640x480 with 1 Axes>"
            ],
            "image/png": "[encoded data removed]"
          },
          "metadata": {}
        }
      ]
    },
    {
      "cell_type": "code",
      "source": [
        "# Pie chart\n",
        "sizes = [30,20,50]\n",
        "labels = ['Apples','Bananas','Cherries']\n",
        "plt.pie(sizes, labels=labels, autopct='%1.1f%%')\n",
        "plt.show()"
      ],
      "metadata": {
        "colab": {
          "base_uri": "https://localhost:8080/",
          "height": 406
        },
        "id": "5p9yyoLAeMUY",
        "outputId": "2e3cc6b5-d9fe-4eca-d88d-d702c97cbf37"
      },
      "execution_count": null,
      "outputs": [
        {
          "output_type": "display_data",
          "data": {
            "text/plain": [
              "<Figure size 640x480 with 1 Axes>"
            ],
            "image/png": "[encoded data removed]"
          },
          "metadata": {}
        }
      ]
    },
    {
      "cell_type": "code",
      "source": [
        "import seaborn as sns\n",
        "import matplotlib.pyplot as plt\n",
        "import numpy as np\n",
        "import pandas as pd\n",
        "# Built-in datasets\n",
        "tips = sns.load_dataset(\"tips\")"
      ],
      "metadata": {
        "id": "MvS3v4Smeaj_"
      },
      "execution_count": null,
      "outputs": []
    },
    {
      "cell_type": "code",
      "source": [
        "sns.scatterplot(x=\"total_bill\", y=\"tip\", data=tips)\n",
        "plt.show()"
      ],
      "metadata": {
        "colab": {
          "base_uri": "https://localhost:8080/",
          "height": 450
        },
        "id": "lwLLJkbqfFjJ",
        "outputId": "36b361df-6631-4d0d-a401-5bfb2a9f59c5"
      },
      "execution_count": null,
      "outputs": [
        {
          "output_type": "display_data",
          "data": {
            "text/plain": [
              "<Figure size 640x480 with 1 Axes>"
            ],
            "image/png": "[encoded data removed]"
          },
          "metadata": {}
        }
      ]
    },
    {
      "cell_type": "code",
      "source": [
        "sns.barplot(x=\"total_bill\", y=\"tip\", data=tips)\n",
        "plt.show()"
      ],
      "metadata": {
        "colab": {
          "base_uri": "https://localhost:8080/",
          "height": 450
        },
        "id": "o8W102QOfLVx",
        "outputId": "9b6cc67c-02cc-427a-939e-f42486afcaeb"
      },
      "execution_count": null,
      "outputs": [
        {
          "output_type": "display_data",
          "data": {
            "text/plain": [
              "<Figure size 640x480 with 1 Axes>"
            ],
            "image/png": "[encoded data removed]"
          },
          "metadata": {}
        }
      ]
    },
    {
      "cell_type": "code",
      "source": [
        "sns.boxplot(x=\"total_bill\", y=\"tip\", data=tips)"
      ],
      "metadata": {
        "colab": {
          "base_uri": "https://localhost:8080/",
          "height": 467
        },
        "id": "9TSjohM0fcc3",
        "outputId": "a1cb9d2d-f800-4f42-96d3-2fc3e075567f"
      },
      "execution_count": null,
      "outputs": [
        {
          "output_type": "execute_result",
          "data": {
            "text/plain": [
              "<Axes: xlabel='total_bill', ylabel='tip'>"
            ]
          },
          "metadata": {},
          "execution_count": 50
        },
        {
          "output_type": "display_data",
          "data": {
            "text/plain": [
              "<Figure size 640x480 with 1 Axes>"
            ],
            "image/png": "[encoded data removed]"
          },
          "metadata": {}
        }
      ]
    },
    {
      "cell_type": "code",
      "source": [
        "sns.violinplot(x=\"total_bill\", y=\"tip\", data=tips)"
      ],
      "metadata": {
        "colab": {
          "base_uri": "https://localhost:8080/",
          "height": 467
        },
        "id": "Ym4tGZJnfoDs",
        "outputId": "3016b7c8-d66a-4632-e721-71499870ba32"
      },
      "execution_count": null,
      "outputs": [
        {
          "output_type": "execute_result",
          "data": {
            "text/plain": [
              "<Axes: xlabel='total_bill', ylabel='tip'>"
            ]
          },
          "metadata": {},
          "execution_count": 52
        },
        {
          "output_type": "display_data",
          "data": {
            "text/plain": [
              "<Figure size 640x480 with 1 Axes>"
            ],
            "image/png": "[encoded data removed]"
          },
          "metadata": {}
        }
      ]
    },
    {
      "cell_type": "code",
      "source": [
        "sns.histplot(tips[\"total_bill\"], bins=20, kde=True)\n",
        "plt.show()"
      ],
      "metadata": {
        "colab": {
          "base_uri": "https://localhost:8080/",
          "height": 450
        },
        "id": "B-SBAhFwf5vN",
        "outputId": "f4d1950a-0a77-4972-ceb5-a50d37db600a"
      },
      "execution_count": null,
      "outputs": [
        {
          "output_type": "display_data",
          "data": {
            "text/plain": [
              "<Figure size 640x480 with 1 Axes>"
            ],
            "image/png": "[encoded data removed]"
          },
          "metadata": {}
        }
      ]
    },
    {
      "cell_type": "code",
      "source": [
        "flights = sns.load_dataset(\"flights\").pivot_table(index=\"month\", columns=\"year\", values=\"passengers\")\n",
        "sns.heatmap(flights, cmap=\"coolwarm\")\n",
        "plt.show()"
      ],
      "metadata": {
        "colab": {
          "base_uri": "https://localhost:8080/",
          "height": 526
        },
        "id": "JOFSaQwKf-0B",
        "outputId": "ffb3a781-d5db-4292-f142-07506ddc4e57"
      },
      "execution_count": null,
      "outputs": [
        {
          "output_type": "stream",
          "name": "stderr",
          "text": [
            "/tmp/ipython-input-3063342167.py:1: FutureWarning: The default value of observed=False is deprecated and will change to observed=True in a future version of pandas. Specify observed=False to silence this warning and retain the current behavior\n",
            "  flights = sns.load_dataset(\"flights\").pivot_table(index=\"month\", columns=\"year\", values=\"passengers\")\n"
          ]
        },
        {
          "output_type": "display_data",
          "data": {
            "text/plain": [
              "<Figure size 640x480 with 2 Axes>"
            ],
            "image/png": "[encoded data removed]"
          },
          "metadata": {}
        }
      ]
    },
    {
      "cell_type": "code",
      "source": [
        "# sns.set_style(\"whitegrid\")\n",
        "# sns.set_palette(\"pastel\")\n",
        "sns.boxplot(x=\"day\", y=\"total_bill\", data=tips)\n",
        "plt.show()"
      ],
      "metadata": {
        "colab": {
          "base_uri": "https://localhost:8080/",
          "height": 449
        },
        "id": "POJ_Ixl9gItD",
        "outputId": "1cbf711b-05c6-4a01-c62e-ddff3dccf2b6"
      },
      "execution_count": null,
      "outputs": [
        {
          "output_type": "display_data",
          "data": {
            "text/plain": [
              "<Figure size 640x480 with 1 Axes>"
            ],
            "image/png": "[encoded data removed]"
          },
          "metadata": {}
        }
      ]
    },
    {
      "cell_type": "code",
      "source": [],
      "metadata": {
        "id": "YwMTUvXtglns"
      },
      "execution_count": null,
      "outputs": []
    }
  ]
}